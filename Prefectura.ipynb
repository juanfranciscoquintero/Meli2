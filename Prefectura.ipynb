{
 "cells": [
  {
   "cell_type": "markdown",
   "id": "2e404fe7",
   "metadata": {},
   "source": [
    "<img src=https://upload.wikimedia.org/wikipedia/commons/6/69/Logo_Austral_Negativo_Vertical.jpg width=\"250\"/> "
   ]
  },
  {
   "cell_type": "code",
   "execution_count": 76,
   "id": "9153702b",
   "metadata": {},
   "outputs": [],
   "source": [
    "import requests\n",
    "import pandas as pd\n",
    "from selenium import webdriver\n",
    "from bs4 import BeautifulSoup\n",
    "import pandas as pd\n",
    "import re\n",
    "import warnings\n",
    "import urllib.request\n",
    "from selenium import webdriver\n",
    "import time\n",
    "from selenium.webdriver.common.keys import Keys\n",
    "from selenium.webdriver.edge.options import Options\n",
    "import time\n",
    "from datetime import datetime\n",
    "import csv\n",
    "import fileinput\n",
    "warnings.filterwarnings(\"ignore\")"
   ]
  },
  {
   "cell_type": "code",
   "execution_count": 77,
   "id": "318cc59b",
   "metadata": {},
   "outputs": [],
   "source": [
    "url = \"https://contenidosweb.prefecturanaval.gob.ar/alturas/\"\n",
    "html = requests.get(url).content\n",
    "soup = BeautifulSoup(html)"
   ]
  },
  {
   "cell_type": "code",
   "execution_count": 78,
   "id": "6b4bdad4",
   "metadata": {},
   "outputs": [],
   "source": [
    "time.sleep(3)"
   ]
  },
  {
   "cell_type": "code",
   "execution_count": 79,
   "id": "f94612a7",
   "metadata": {},
   "outputs": [],
   "source": [
    "gdp = soup.find_all(\"table\", attrs={\"class\": \"table table-hover fpTable\"})"
   ]
  },
  {
   "cell_type": "code",
   "execution_count": 80,
   "id": "9633d7c4",
   "metadata": {},
   "outputs": [
    {
     "name": "stdout",
     "output_type": "stream",
     "text": [
      "['Río', 'Ult. registro', 'Variación', 'Periodo', 'Fecha Hora', 'Estado', '', 'Registro Anterior', 'Fecha Anterior', 'Alerta', 'Evacuación', 'Hist.']\n"
     ]
    }
   ],
   "source": [
    "table1 = gdp[0]\n",
    "body = table1.find_all(\"tr\")\n",
    "head = body[0]\n",
    "body_rows = body[1:]\n",
    "headings = []\n",
    "for item in head.find_all(\"th\"):\n",
    "    item = (item.text).rstrip(\"\\n\")\n",
    "    headings.append(item)\n",
    "del headings[0]\n",
    "print(headings)\n"
   ]
  },
  {
   "cell_type": "code",
   "execution_count": 81,
   "id": "171b005d",
   "metadata": {},
   "outputs": [],
   "source": [
    "all_rows1 = [] \n",
    "for row_num in range(len(body_rows)):\n",
    "    row = [] \n",
    "    for row_item in body_rows[row_num].find_all(\"th\"):\n",
    "        aa = re.sub(\"(\\xa0)|(\\n)|,\",\"\",row_item.text)\n",
    "        row.append(aa)\n",
    "    all_rows1.append(row)    "
   ]
  },
  {
   "cell_type": "code",
   "execution_count": 82,
   "id": "dedcde61",
   "metadata": {},
   "outputs": [],
   "source": [
    "df1 = pd.DataFrame(data=all_rows1,columns=[\"Puerto\"])"
   ]
  },
  {
   "cell_type": "code",
   "execution_count": 83,
   "id": "bc0cab04",
   "metadata": {},
   "outputs": [],
   "source": [
    "all_rows2 = [] \n",
    "for row_num in range(len(body_rows)):\n",
    "    row = []\n",
    "    for row_item in body_rows[row_num].find_all(\"td\"):\n",
    "        aa = re.sub(\"(\\xa0)|(\\n)|,\",\"\",row_item.text)\n",
    "        row.append(aa)\n",
    "    all_rows2.append(row)"
   ]
  },
  {
   "cell_type": "code",
   "execution_count": 84,
   "id": "14a5df19",
   "metadata": {},
   "outputs": [],
   "source": [
    "df2 = pd.DataFrame(data=all_rows2,columns=headings)"
   ]
  },
  {
   "cell_type": "code",
   "execution_count": 85,
   "id": "82495c31",
   "metadata": {},
   "outputs": [],
   "source": [
    "df = pd.concat([df1, df2], axis=1, join='inner')"
   ]
  },
  {
   "cell_type": "code",
   "execution_count": 86,
   "id": "f113f05b",
   "metadata": {},
   "outputs": [],
   "source": [
    "df[\"Ult. registro\"] = pd.to_numeric(df[\"Ult. registro\"], errors='coerce').fillna(0, downcast='infer')\n",
    "df[\"Variación\"] = pd.to_numeric(df[\"Variación\"], errors='coerce').fillna(0, downcast='infer')\n",
    "df[\"Periodo\"] = pd.to_numeric(df[\"Periodo\"], errors='coerce').fillna(0, downcast='infer')\n",
    "df[\"Registro Anterior\"] = pd.to_numeric(df[\"Registro Anterior\"], errors='coerce').fillna(0, downcast='infer')\n",
    "df = df.astype({\"Estado\":'category'})\n",
    "#df[\"Fecha Hora\"] = pd.to_datetime(df[\"Fecha Hora\"])\n",
    "df[\"Fecha Anterior\"] = pd.to_datetime(df[\"Fecha Anterior\"])"
   ]
  },
  {
   "cell_type": "code",
   "execution_count": 87,
   "id": "06faf89e",
   "metadata": {},
   "outputs": [],
   "source": [
    "df.set_index(\"Fecha Hora\", inplace = True)"
   ]
  },
  {
   "cell_type": "code",
   "execution_count": 88,
   "id": "678105c6",
   "metadata": {},
   "outputs": [],
   "source": [
    "#save to CSV\n",
    "#no tiene headings: el archivo creado tiene que tenerlo\n",
    "df.to_csv('prefectura.csv', mode='a', index=[\"Fecha Hora\"], header=False)"
   ]
  },
  {
   "cell_type": "code",
   "execution_count": 89,
   "id": "e1651068",
   "metadata": {},
   "outputs": [],
   "source": [
    "#saco duplicados\n",
    "inFile = open('prefectura.csv','r')\n",
    "\n",
    "outFile = open('df.csv','w')\n",
    "\n",
    "listLines = []\n",
    "\n",
    "for line in inFile:\n",
    "\n",
    "    if line in listLines:\n",
    "        continue\n",
    "\n",
    "    else:\n",
    "        outFile.write(line)\n",
    "        listLines.append(line)\n",
    "\n",
    "outFile.close()\n",
    "\n",
    "inFile.close()"
   ]
  },
  {
   "cell_type": "markdown",
   "id": "172d0f3d",
   "metadata": {},
   "source": [
    "pasar Neural prophet para forecastear altura de rio en un punto x.\n"
   ]
  }
 ],
 "metadata": {
  "kernelspec": {
   "display_name": "Python 3",
   "language": "python",
   "name": "python3"
  },
  "language_info": {
   "codemirror_mode": {
    "name": "ipython",
    "version": 3
   },
   "file_extension": ".py",
   "mimetype": "text/x-python",
   "name": "python",
   "nbconvert_exporter": "python",
   "pygments_lexer": "ipython3",
   "version": "3.8.8"
  }
 },
 "nbformat": 4,
 "nbformat_minor": 5
}
